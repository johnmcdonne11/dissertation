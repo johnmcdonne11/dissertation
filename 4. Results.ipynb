{
 "cells": [
  {
   "cell_type": "markdown",
   "id": "8162c2e1",
   "metadata": {},
   "source": [
    "# Results"
   ]
  },
  {
   "cell_type": "code",
   "execution_count": 1,
   "id": "5ad61399",
   "metadata": {},
   "outputs": [],
   "source": [
    "import pandas as pd\n",
    "import numpy as np\n",
    "import matplotlib as mpl\n",
    "import matplotlib.pyplot as plt\n",
    "import scipy.stats\n",
    "import random\n",
    "%matplotlib inline "
   ]
  },
  {
   "cell_type": "code",
   "execution_count": 2,
   "id": "bbfa309f",
   "metadata": {},
   "outputs": [],
   "source": [
    "plt.style.use('seaborn-poster')"
   ]
  },
  {
   "cell_type": "markdown",
   "id": "70f3fbdb",
   "metadata": {},
   "source": [
    "## Import experiment data"
   ]
  },
  {
   "cell_type": "code",
   "execution_count": 4,
   "id": "f910b31f",
   "metadata": {},
   "outputs": [],
   "source": [
    "#experimentData = pd.read_csv('Experiments/3. Real world validation/3. Real world data validation-table_1.csv', skiprows=6)\n",
    "experimentData = pd.read_csv('Experiments/5. Main Experiment/Experiment_1.csv', skiprows=6)"
   ]
  },
  {
   "cell_type": "code",
   "execution_count": 5,
   "id": "8b48a420",
   "metadata": {},
   "outputs": [
    {
     "name": "stdout",
     "output_type": "stream",
     "text": [
      "<class 'pandas.core.frame.DataFrame'>\n",
      "RangeIndex: 4133314 entries, 0 to 4133313\n",
      "Data columns (total 29 columns):\n",
      " #   Column                                      Dtype  \n",
      "---  ------                                      -----  \n",
      " 0   [run number]                                int64  \n",
      " 1   Close_contact_tracing                       bool   \n",
      " 2   Reduce_transmissibility_to                  int64  \n",
      " 3   PCR_Testing                                 bool   \n",
      " 4   p_days_exposed                              float64\n",
      " 5   lockdown_from_day_n                         int64  \n",
      " 6   random_tests_percentage                     float64\n",
      " 7   p_days_infectious_to_symptomatic            float64\n",
      " 8   p_days_severe                               float64\n",
      " 9   p_days_infectious_to_recovery_severe        float64\n",
      " 10  p_days_critical                             float64\n",
      " 11  p_days_infectious_to_recovery_asymptomatic  int64  \n",
      " 12  Agent_size                                  float64\n",
      " 13  p_days_critical_to_death                    float64\n",
      " 14  p_days_infectious_to_recovery_mild          int64  \n",
      " 15  p_days_infectious_to_recovery_critical      float64\n",
      " 16  [step]                                      int64  \n",
      " 17  SusceptibleAgents                           int64  \n",
      " 18  ExposedAgents                               int64  \n",
      " 19  InfectedAAgents                             int64  \n",
      " 20  InfectedMAgents                             int64  \n",
      " 21  InfectedSAgents                             int64  \n",
      " 22  InfectedCAgents                             int64  \n",
      " 23  RecoveredAgents                             int64  \n",
      " 24  DeadAgents                                  int64  \n",
      " 25  cumulativeConfirmedCases                    int64  \n",
      " 26  cumulativeConfirmedRandomCases              int64  \n",
      " 27  cumulativeNegativeRandomCases               int64  \n",
      " 28  dailyPCRTestsConducted                      int64  \n",
      "dtypes: bool(2), float64(9), int64(18)\n",
      "memory usage: 859.3 MB\n"
     ]
    }
   ],
   "source": [
    "experimentData.info()"
   ]
  },
  {
   "cell_type": "code",
   "execution_count": null,
   "id": "baf89a16",
   "metadata": {},
   "outputs": [],
   "source": [
    "# Subset columns\n",
    "cols = ['[run number]', '[step]', 'random_tests_percentage', 'SusceptibleAgents', 'ExposedAgents',\\\n",
    " 'InfectedAAgents', 'InfectedMAgents', 'InfectedSAgents', 'InfectedCAgents', 'RecoveredAgents', 'DeadAgents', \\\n",
    " 'cumulativeConfirmedCases', 'cumulativeConfirmedRandomCases', 'cumulativeNegativeRandomCases']\n",
    "experimentData = experimentData[cols]\n",
    "\n",
    "# rename columns\n",
    "cols = ['run', 'step', 'random_tests_percentage', 'SusceptibleAgents', 'ExposedAgents',\\\n",
    " 'InfectedAAgents', 'InfectedMAgents', 'InfectedSAgents', 'InfectedCAgents', 'RecoveredAgents', 'DeadAgents', \\\n",
    " 'cumulativeConfirmedCases', 'cumulativeConfirmedRandomCases', 'cumulativeNegativeRandomCases']\n",
    "experimentData.columns = cols"
   ]
  },
  {
   "cell_type": "markdown",
   "id": "7a87027d",
   "metadata": {},
   "source": [
    "## Group by random tests percentage"
   ]
  },
  {
   "cell_type": "code",
   "execution_count": null,
   "id": "3b7b35fe",
   "metadata": {},
   "outputs": [],
   "source": [
    "results = experimentData.groupby(['run', 'random_tests_percentage'], as_index=False).agg({'DeadAgents' : 'max'})"
   ]
  },
  {
   "cell_type": "code",
   "execution_count": null,
   "id": "2ec8995c",
   "metadata": {},
   "outputs": [],
   "source": [
    "base = results[results['random_tests_percentage'] == 0]\n",
    "scenario1 = results[results['random_tests_percentage'] == 0.1]\n",
    "scenario2 = results[results['random_tests_percentage'] == 0.2]\n",
    "scenario3 = results[results['random_tests_percentage'] == 0.3]\n",
    "scenario4 = results[results['random_tests_percentage'] == 0.4]\n",
    "scenario5 = results[results['random_tests_percentage'] == 0.5]"
   ]
  },
  {
   "cell_type": "markdown",
   "id": "4b8db71c",
   "metadata": {},
   "source": [
    "## Calculate difference of two means"
   ]
  },
  {
   "cell_type": "markdown",
   "id": "dba800e3",
   "metadata": {},
   "source": [
    "The Null hypothesis is that the samples are drawn from populations with the same population means.  If the p-value is smaller than our threshold of 5%, then we have evidence against the null hypothesis of equal population means."
   ]
  },
  {
   "cell_type": "markdown",
   "id": "04fe2219",
   "metadata": {},
   "source": [
    "Levene’s test for equal variance can be carried out to check that variances are equal for all samples. The test can be used to check the assumption of equal variances before running a parametric test like One-Way ANOVA in Python. If your data is not following a normal distribution Levene’s test is preferred before Barlett’s."
   ]
  },
  {
   "cell_type": "code",
   "execution_count": null,
   "id": "6fbe79ac",
   "metadata": {},
   "outputs": [],
   "source": [
    "from scipy.stats import ttest_ind\n",
    "from scipy.stats import shapiro\n",
    "from scipy.stats import levene\n",
    "from scipy.stats import mannwhitneyu"
   ]
  },
  {
   "cell_type": "code",
   "execution_count": null,
   "id": "8f3e0f47",
   "metadata": {},
   "outputs": [],
   "source": [
    "a = base.loc[:, 'DeadAgents']\n",
    "s1 = scenario1.loc[:, 'DeadAgents']\n",
    "s2 = scenario2.loc[:, 'DeadAgents']\n",
    "s3 = scenario3.loc[:, 'DeadAgents']\n",
    "s4 = scenario4.loc[:, 'DeadAgents']\n",
    "s5 = scenario5.loc[:, 'DeadAgents']"
   ]
  },
  {
   "cell_type": "code",
   "execution_count": null,
   "id": "24128dd9",
   "metadata": {},
   "outputs": [],
   "source": [
    "1.96 + (a.std() / np.sqrt(300))"
   ]
  },
  {
   "cell_type": "code",
   "execution_count": null,
   "id": "d9792d57",
   "metadata": {},
   "outputs": [],
   "source": [
    "def descStats(x):\n",
    "    CI_lower = x.mean() - (1.96 * (x.std() / np.sqrt(300)))\n",
    "    CI_upper = x.mean() + (1.96 * (x.std() / np.sqrt(300)))\n",
    "    return x.mean(), x.std(), CI_lower, CI_upper"
   ]
  },
  {
   "cell_type": "code",
   "execution_count": null,
   "id": "55b1c286",
   "metadata": {},
   "outputs": [],
   "source": [
    "descStats(a)"
   ]
  },
  {
   "cell_type": "code",
   "execution_count": null,
   "id": "d75d7cb7",
   "metadata": {},
   "outputs": [],
   "source": [
    "descStats(s1)"
   ]
  },
  {
   "cell_type": "code",
   "execution_count": null,
   "id": "846ba80f",
   "metadata": {},
   "outputs": [],
   "source": [
    "descStats(s2)"
   ]
  },
  {
   "cell_type": "code",
   "execution_count": null,
   "id": "720ac47b",
   "metadata": {},
   "outputs": [],
   "source": [
    "descStats(s3)"
   ]
  },
  {
   "cell_type": "code",
   "execution_count": null,
   "id": "f07648df",
   "metadata": {},
   "outputs": [],
   "source": [
    "descStats(s4)"
   ]
  },
  {
   "cell_type": "code",
   "execution_count": null,
   "id": "96354e77",
   "metadata": {},
   "outputs": [],
   "source": [
    "descStats(s5)"
   ]
  },
  {
   "cell_type": "markdown",
   "id": "119adced",
   "metadata": {},
   "source": [
    "### Test for Normality"
   ]
  },
  {
   "cell_type": "code",
   "execution_count": null,
   "id": "8ba7da7a",
   "metadata": {},
   "outputs": [],
   "source": [
    "shapiro(a)"
   ]
  },
  {
   "cell_type": "code",
   "execution_count": null,
   "id": "8b37efea",
   "metadata": {},
   "outputs": [],
   "source": [
    "shapiro(s1)"
   ]
  },
  {
   "cell_type": "code",
   "execution_count": null,
   "id": "33840222",
   "metadata": {},
   "outputs": [],
   "source": [
    "shapiro(s2)"
   ]
  },
  {
   "cell_type": "code",
   "execution_count": null,
   "id": "fe632698",
   "metadata": {},
   "outputs": [],
   "source": [
    "shapiro(s3)"
   ]
  },
  {
   "cell_type": "code",
   "execution_count": null,
   "id": "475f1cc7",
   "metadata": {},
   "outputs": [],
   "source": [
    "shapiro(s4)"
   ]
  },
  {
   "cell_type": "code",
   "execution_count": null,
   "id": "d0fa948c",
   "metadata": {},
   "outputs": [],
   "source": [
    "shapiro(s5)"
   ]
  },
  {
   "cell_type": "markdown",
   "id": "cd4ec83b",
   "metadata": {},
   "source": [
    "### Test for equal variance"
   ]
  },
  {
   "cell_type": "code",
   "execution_count": null,
   "id": "3cea1d1c",
   "metadata": {},
   "outputs": [],
   "source": [
    "levene(a, s1)"
   ]
  },
  {
   "cell_type": "code",
   "execution_count": null,
   "id": "707fc694",
   "metadata": {},
   "outputs": [],
   "source": [
    "levene(a, s2)"
   ]
  },
  {
   "cell_type": "code",
   "execution_count": null,
   "id": "12397ae5",
   "metadata": {},
   "outputs": [],
   "source": [
    "levene(a, s3)"
   ]
  },
  {
   "cell_type": "code",
   "execution_count": null,
   "id": "4cf44f89",
   "metadata": {},
   "outputs": [],
   "source": [
    "levene(a, s4)"
   ]
  },
  {
   "cell_type": "code",
   "execution_count": null,
   "id": "66e7712c",
   "metadata": {},
   "outputs": [],
   "source": [
    "levene(a, s5)"
   ]
  },
  {
   "cell_type": "markdown",
   "id": "398d6f48",
   "metadata": {},
   "source": [
    "### Test for difference in means"
   ]
  },
  {
   "cell_type": "markdown",
   "id": "a0ef20c0",
   "metadata": {},
   "source": [
    "#### T-Test (parametric)"
   ]
  },
  {
   "cell_type": "code",
   "execution_count": null,
   "id": "e10ca1dd",
   "metadata": {},
   "outputs": [],
   "source": [
    "ttest_ind(a, s1, axis=0, equal_var=True)"
   ]
  },
  {
   "cell_type": "code",
   "execution_count": null,
   "id": "fb56cb1b",
   "metadata": {},
   "outputs": [],
   "source": [
    "ttest_ind(a, s2, axis=0, equal_var=False)"
   ]
  },
  {
   "cell_type": "code",
   "execution_count": null,
   "id": "6f4d9a34",
   "metadata": {},
   "outputs": [],
   "source": [
    "ttest_ind(a, s3, axis=0, equal_var=False)"
   ]
  },
  {
   "cell_type": "code",
   "execution_count": null,
   "id": "e51e564d",
   "metadata": {},
   "outputs": [],
   "source": [
    "ttest_ind(a, s4, axis=0, equal_var=False)"
   ]
  },
  {
   "cell_type": "code",
   "execution_count": null,
   "id": "20e67745",
   "metadata": {},
   "outputs": [],
   "source": [
    "ttest_ind(a, s5, axis=0, equal_var=False)"
   ]
  },
  {
   "cell_type": "markdown",
   "id": "6d1143e3",
   "metadata": {},
   "source": [
    "#### Mann Whitney U Test (non-parametric)\n",
    "The hypothesis is one-sided where we want to check whether the number of deaths is greater in a population of "
   ]
  },
  {
   "cell_type": "code",
   "execution_count": null,
   "id": "4f3b0747",
   "metadata": {},
   "outputs": [],
   "source": [
    "mannwhitneyu(a, s1, alternative='greater')"
   ]
  },
  {
   "cell_type": "code",
   "execution_count": null,
   "id": "99be0965",
   "metadata": {},
   "outputs": [],
   "source": [
    "mannwhitneyu(a, s2, alternative='greater')"
   ]
  },
  {
   "cell_type": "code",
   "execution_count": null,
   "id": "4156f1f2",
   "metadata": {},
   "outputs": [],
   "source": [
    "mannwhitneyu(a, s3, alternative='greater')"
   ]
  },
  {
   "cell_type": "code",
   "execution_count": null,
   "id": "ec06b227",
   "metadata": {},
   "outputs": [],
   "source": [
    "mannwhitneyu(a, s4, alternative='greater')"
   ]
  },
  {
   "cell_type": "code",
   "execution_count": null,
   "id": "474431e5",
   "metadata": {},
   "outputs": [],
   "source": [
    "mannwhitneyu(a, s5, alternative='greater')"
   ]
  },
  {
   "cell_type": "markdown",
   "id": "bd41f52e",
   "metadata": {},
   "source": [
    "## Plots"
   ]
  },
  {
   "cell_type": "markdown",
   "id": "79f93eaf",
   "metadata": {},
   "source": [
    "### Average number of deaths in each scenario"
   ]
  },
  {
   "cell_type": "code",
   "execution_count": null,
   "id": "b1ff4d99",
   "metadata": {},
   "outputs": [],
   "source": [
    "plotData = experimentData.groupby(['step', 'random_tests_percentage'], as_index=False).agg({'DeadAgents' : 'mean'})"
   ]
  },
  {
   "cell_type": "code",
   "execution_count": null,
   "id": "edd33449",
   "metadata": {},
   "outputs": [],
   "source": [
    "t = plotData.loc[plotData['random_tests_percentage'] == 0, 'step']\n",
    "D_base = plotData.loc[plotData['random_tests_percentage'] == 0, 'DeadAgents']\n",
    "D_1 = plotData.loc[plotData['random_tests_percentage'] == 0.1, 'DeadAgents']\n",
    "D_2 = plotData.loc[plotData['random_tests_percentage'] == 0.2, 'DeadAgents']\n",
    "D_3 = plotData.loc[plotData['random_tests_percentage'] == 0.3, 'DeadAgents']\n",
    "D_4 = plotData.loc[plotData['random_tests_percentage'] == 0.4, 'DeadAgents']\n",
    "D_5 = plotData.loc[plotData['random_tests_percentage'] == 0.5, 'DeadAgents']"
   ]
  },
  {
   "cell_type": "code",
   "execution_count": null,
   "id": "dd164c05",
   "metadata": {},
   "outputs": [],
   "source": [
    "fig, ax = plt.subplots()\n",
    "\n",
    "# Plot data\n",
    "ax.plot(t, D_base, color='grey', linewidth=2, label='Base Scenario')\n",
    "ax.plot(t, D_1, color='blue', linewidth=2, label='10% Random Testing')\n",
    "ax.plot(t, D_2, color='brown', linewidth=2, label='20% Random Testing')\n",
    "ax.plot(t, D_3, color='yellow', linewidth=2, label='30% Random Testing')\n",
    "ax.plot(t, D_4, color='orange', linewidth=2, label='40% Random Testing')\n",
    "ax.plot(t, D_5, color='red', linewidth=2, label='50% Random Testing')\n",
    "plt.axvline(x = 31 * 24, label='Lockdown from day 31', color='grey', linewidth=2, linestyle='--')\n",
    "\n",
    "# Add titles\n",
    "ax.set_title('Average number of Dead Agents')\n",
    "ax.set_xlabel('Hours')\n",
    "ax.set_ylabel('Average number of deaths')\n",
    "ax.legend()\n",
    "plt.show()"
   ]
  },
  {
   "cell_type": "markdown",
   "id": "0fe54741",
   "metadata": {},
   "source": [
    "# Testing Capacity"
   ]
  },
  {
   "cell_type": "code",
   "execution_count": 53,
   "id": "22822963",
   "metadata": {},
   "outputs": [],
   "source": [
    "experimentData = pd.read_csv('Experiments/5. Main Experiment/Experiment_1.csv', skiprows=6)"
   ]
  },
  {
   "cell_type": "code",
   "execution_count": 55,
   "id": "36338c47",
   "metadata": {},
   "outputs": [
    {
     "data": {
      "text/plain": [
       "array([ 0, 11,  9, 10, 13, 14,  7,  5,  1,  2,  4,  3,  6, 16,  8, 12, 19,\n",
       "       15, 20, 23, 21, 24, 17, 26, 18, 25, 22])"
      ]
     },
     "execution_count": 55,
     "metadata": {},
     "output_type": "execute_result"
    }
   ],
   "source": [
    "experimentData['dailyPCRTestsConducted'].unique()"
   ]
  },
  {
   "cell_type": "code",
   "execution_count": 56,
   "id": "e8f1dddb",
   "metadata": {},
   "outputs": [],
   "source": [
    "experimentData['day'] = experimentData['[step]'] // 24"
   ]
  },
  {
   "cell_type": "code",
   "execution_count": 109,
   "id": "1d9215c0",
   "metadata": {},
   "outputs": [
    {
     "name": "stdout",
     "output_type": "stream",
     "text": [
      "<class 'pandas.core.frame.DataFrame'>\n",
      "RangeIndex: 4133314 entries, 0 to 4133313\n",
      "Data columns (total 30 columns):\n",
      " #   Column                                      Dtype  \n",
      "---  ------                                      -----  \n",
      " 0   [run number]                                int64  \n",
      " 1   Close_contact_tracing                       bool   \n",
      " 2   Reduce_transmissibility_to                  int64  \n",
      " 3   PCR_Testing                                 bool   \n",
      " 4   p_days_exposed                              float64\n",
      " 5   lockdown_from_day_n                         int64  \n",
      " 6   random_tests_percentage                     float64\n",
      " 7   p_days_infectious_to_symptomatic            float64\n",
      " 8   p_days_severe                               float64\n",
      " 9   p_days_infectious_to_recovery_severe        float64\n",
      " 10  p_days_critical                             float64\n",
      " 11  p_days_infectious_to_recovery_asymptomatic  int64  \n",
      " 12  Agent_size                                  float64\n",
      " 13  p_days_critical_to_death                    float64\n",
      " 14  p_days_infectious_to_recovery_mild          int64  \n",
      " 15  p_days_infectious_to_recovery_critical      float64\n",
      " 16  [step]                                      int64  \n",
      " 17  SusceptibleAgents                           int64  \n",
      " 18  ExposedAgents                               int64  \n",
      " 19  InfectedAAgents                             int64  \n",
      " 20  InfectedMAgents                             int64  \n",
      " 21  InfectedSAgents                             int64  \n",
      " 22  InfectedCAgents                             int64  \n",
      " 23  RecoveredAgents                             int64  \n",
      " 24  DeadAgents                                  int64  \n",
      " 25  cumulativeConfirmedCases                    int64  \n",
      " 26  cumulativeConfirmedRandomCases              int64  \n",
      " 27  cumulativeNegativeRandomCases               int64  \n",
      " 28  dailyPCRTestsConducted                      int64  \n",
      " 29  day                                         int64  \n",
      "dtypes: bool(2), float64(9), int64(19)\n",
      "memory usage: 890.9 MB\n"
     ]
    }
   ],
   "source": [
    "experimentData.info()"
   ]
  },
  {
   "cell_type": "code",
   "execution_count": 113,
   "id": "862cfd0c",
   "metadata": {},
   "outputs": [],
   "source": [
    "tests = experimentData.groupby(['day', 'random_tests_percentage'], as_index=False).agg({'cumulativeConfirmedRandomCases' : 'mean', 'cumulativeNegativeRandomCases' : 'mean', 'dailyPCRTestsConducted' : 'mean', 'cumulativeConfirmedCases' : 'mean'})"
   ]
  },
  {
   "cell_type": "code",
   "execution_count": 114,
   "id": "625415c8",
   "metadata": {},
   "outputs": [],
   "source": [
    "def prePlotTesting(test, random):\n",
    "    # data prep\n",
    "    test = test.loc[test['random_tests_percentage'] == random, :]\n",
    "    \n",
    "    test['dailyConfirmedRandomCases'] = test['cumulativeConfirmedRandomCases'].diff().fillna(0)\n",
    "    test['dailyNegativeRandomCases'] = test['cumulativeNegativeRandomCases'].diff().fillna(0)\n",
    "    test['dailyConfirmedCases'] = test['cumulativeConfirmedCases'].diff().fillna(0)\n",
    "    test['totalDailyTestsConducted'] = test['dailyPCRTestsConducted'] + test['dailyConfirmedRandomCases'] + test['dailyNegativeRandomCases']\n",
    "\n",
    "    return test    "
   ]
  },
  {
   "cell_type": "code",
   "execution_count": 115,
   "id": "59f1fbe4",
   "metadata": {},
   "outputs": [
    {
     "name": "stderr",
     "output_type": "stream",
     "text": [
      "/opt/miniconda3/lib/python3.7/site-packages/ipykernel_launcher.py:5: SettingWithCopyWarning: \n",
      "A value is trying to be set on a copy of a slice from a DataFrame.\n",
      "Try using .loc[row_indexer,col_indexer] = value instead\n",
      "\n",
      "See the caveats in the documentation: https://pandas.pydata.org/pandas-docs/stable/user_guide/indexing.html#returning-a-view-versus-a-copy\n",
      "  \"\"\"\n",
      "/opt/miniconda3/lib/python3.7/site-packages/ipykernel_launcher.py:6: SettingWithCopyWarning: \n",
      "A value is trying to be set on a copy of a slice from a DataFrame.\n",
      "Try using .loc[row_indexer,col_indexer] = value instead\n",
      "\n",
      "See the caveats in the documentation: https://pandas.pydata.org/pandas-docs/stable/user_guide/indexing.html#returning-a-view-versus-a-copy\n",
      "  \n",
      "/opt/miniconda3/lib/python3.7/site-packages/ipykernel_launcher.py:7: SettingWithCopyWarning: \n",
      "A value is trying to be set on a copy of a slice from a DataFrame.\n",
      "Try using .loc[row_indexer,col_indexer] = value instead\n",
      "\n",
      "See the caveats in the documentation: https://pandas.pydata.org/pandas-docs/stable/user_guide/indexing.html#returning-a-view-versus-a-copy\n",
      "  import sys\n",
      "/opt/miniconda3/lib/python3.7/site-packages/ipykernel_launcher.py:8: SettingWithCopyWarning: \n",
      "A value is trying to be set on a copy of a slice from a DataFrame.\n",
      "Try using .loc[row_indexer,col_indexer] = value instead\n",
      "\n",
      "See the caveats in the documentation: https://pandas.pydata.org/pandas-docs/stable/user_guide/indexing.html#returning-a-view-versus-a-copy\n",
      "  \n",
      "/opt/miniconda3/lib/python3.7/site-packages/ipykernel_launcher.py:5: SettingWithCopyWarning: \n",
      "A value is trying to be set on a copy of a slice from a DataFrame.\n",
      "Try using .loc[row_indexer,col_indexer] = value instead\n",
      "\n",
      "See the caveats in the documentation: https://pandas.pydata.org/pandas-docs/stable/user_guide/indexing.html#returning-a-view-versus-a-copy\n",
      "  \"\"\"\n",
      "/opt/miniconda3/lib/python3.7/site-packages/ipykernel_launcher.py:6: SettingWithCopyWarning: \n",
      "A value is trying to be set on a copy of a slice from a DataFrame.\n",
      "Try using .loc[row_indexer,col_indexer] = value instead\n",
      "\n",
      "See the caveats in the documentation: https://pandas.pydata.org/pandas-docs/stable/user_guide/indexing.html#returning-a-view-versus-a-copy\n",
      "  \n",
      "/opt/miniconda3/lib/python3.7/site-packages/ipykernel_launcher.py:7: SettingWithCopyWarning: \n",
      "A value is trying to be set on a copy of a slice from a DataFrame.\n",
      "Try using .loc[row_indexer,col_indexer] = value instead\n",
      "\n",
      "See the caveats in the documentation: https://pandas.pydata.org/pandas-docs/stable/user_guide/indexing.html#returning-a-view-versus-a-copy\n",
      "  import sys\n",
      "/opt/miniconda3/lib/python3.7/site-packages/ipykernel_launcher.py:8: SettingWithCopyWarning: \n",
      "A value is trying to be set on a copy of a slice from a DataFrame.\n",
      "Try using .loc[row_indexer,col_indexer] = value instead\n",
      "\n",
      "See the caveats in the documentation: https://pandas.pydata.org/pandas-docs/stable/user_guide/indexing.html#returning-a-view-versus-a-copy\n",
      "  \n",
      "/opt/miniconda3/lib/python3.7/site-packages/ipykernel_launcher.py:5: SettingWithCopyWarning: \n",
      "A value is trying to be set on a copy of a slice from a DataFrame.\n",
      "Try using .loc[row_indexer,col_indexer] = value instead\n",
      "\n",
      "See the caveats in the documentation: https://pandas.pydata.org/pandas-docs/stable/user_guide/indexing.html#returning-a-view-versus-a-copy\n",
      "  \"\"\"\n",
      "/opt/miniconda3/lib/python3.7/site-packages/ipykernel_launcher.py:6: SettingWithCopyWarning: \n",
      "A value is trying to be set on a copy of a slice from a DataFrame.\n",
      "Try using .loc[row_indexer,col_indexer] = value instead\n",
      "\n",
      "See the caveats in the documentation: https://pandas.pydata.org/pandas-docs/stable/user_guide/indexing.html#returning-a-view-versus-a-copy\n",
      "  \n",
      "/opt/miniconda3/lib/python3.7/site-packages/ipykernel_launcher.py:7: SettingWithCopyWarning: \n",
      "A value is trying to be set on a copy of a slice from a DataFrame.\n",
      "Try using .loc[row_indexer,col_indexer] = value instead\n",
      "\n",
      "See the caveats in the documentation: https://pandas.pydata.org/pandas-docs/stable/user_guide/indexing.html#returning-a-view-versus-a-copy\n",
      "  import sys\n",
      "/opt/miniconda3/lib/python3.7/site-packages/ipykernel_launcher.py:8: SettingWithCopyWarning: \n",
      "A value is trying to be set on a copy of a slice from a DataFrame.\n",
      "Try using .loc[row_indexer,col_indexer] = value instead\n",
      "\n",
      "See the caveats in the documentation: https://pandas.pydata.org/pandas-docs/stable/user_guide/indexing.html#returning-a-view-versus-a-copy\n",
      "  \n",
      "/opt/miniconda3/lib/python3.7/site-packages/ipykernel_launcher.py:5: SettingWithCopyWarning: \n",
      "A value is trying to be set on a copy of a slice from a DataFrame.\n",
      "Try using .loc[row_indexer,col_indexer] = value instead\n",
      "\n",
      "See the caveats in the documentation: https://pandas.pydata.org/pandas-docs/stable/user_guide/indexing.html#returning-a-view-versus-a-copy\n",
      "  \"\"\"\n",
      "/opt/miniconda3/lib/python3.7/site-packages/ipykernel_launcher.py:6: SettingWithCopyWarning: \n",
      "A value is trying to be set on a copy of a slice from a DataFrame.\n",
      "Try using .loc[row_indexer,col_indexer] = value instead\n",
      "\n",
      "See the caveats in the documentation: https://pandas.pydata.org/pandas-docs/stable/user_guide/indexing.html#returning-a-view-versus-a-copy\n",
      "  \n",
      "/opt/miniconda3/lib/python3.7/site-packages/ipykernel_launcher.py:7: SettingWithCopyWarning: \n",
      "A value is trying to be set on a copy of a slice from a DataFrame.\n",
      "Try using .loc[row_indexer,col_indexer] = value instead\n",
      "\n",
      "See the caveats in the documentation: https://pandas.pydata.org/pandas-docs/stable/user_guide/indexing.html#returning-a-view-versus-a-copy\n",
      "  import sys\n",
      "/opt/miniconda3/lib/python3.7/site-packages/ipykernel_launcher.py:8: SettingWithCopyWarning: \n",
      "A value is trying to be set on a copy of a slice from a DataFrame.\n",
      "Try using .loc[row_indexer,col_indexer] = value instead\n",
      "\n",
      "See the caveats in the documentation: https://pandas.pydata.org/pandas-docs/stable/user_guide/indexing.html#returning-a-view-versus-a-copy\n",
      "  \n",
      "/opt/miniconda3/lib/python3.7/site-packages/ipykernel_launcher.py:5: SettingWithCopyWarning: \n",
      "A value is trying to be set on a copy of a slice from a DataFrame.\n",
      "Try using .loc[row_indexer,col_indexer] = value instead\n",
      "\n",
      "See the caveats in the documentation: https://pandas.pydata.org/pandas-docs/stable/user_guide/indexing.html#returning-a-view-versus-a-copy\n",
      "  \"\"\"\n",
      "/opt/miniconda3/lib/python3.7/site-packages/ipykernel_launcher.py:6: SettingWithCopyWarning: \n",
      "A value is trying to be set on a copy of a slice from a DataFrame.\n",
      "Try using .loc[row_indexer,col_indexer] = value instead\n",
      "\n",
      "See the caveats in the documentation: https://pandas.pydata.org/pandas-docs/stable/user_guide/indexing.html#returning-a-view-versus-a-copy\n",
      "  \n",
      "/opt/miniconda3/lib/python3.7/site-packages/ipykernel_launcher.py:7: SettingWithCopyWarning: \n",
      "A value is trying to be set on a copy of a slice from a DataFrame.\n",
      "Try using .loc[row_indexer,col_indexer] = value instead\n",
      "\n",
      "See the caveats in the documentation: https://pandas.pydata.org/pandas-docs/stable/user_guide/indexing.html#returning-a-view-versus-a-copy\n",
      "  import sys\n",
      "/opt/miniconda3/lib/python3.7/site-packages/ipykernel_launcher.py:8: SettingWithCopyWarning: \n",
      "A value is trying to be set on a copy of a slice from a DataFrame.\n",
      "Try using .loc[row_indexer,col_indexer] = value instead\n",
      "\n",
      "See the caveats in the documentation: https://pandas.pydata.org/pandas-docs/stable/user_guide/indexing.html#returning-a-view-versus-a-copy\n",
      "  \n",
      "/opt/miniconda3/lib/python3.7/site-packages/ipykernel_launcher.py:5: SettingWithCopyWarning: \n",
      "A value is trying to be set on a copy of a slice from a DataFrame.\n",
      "Try using .loc[row_indexer,col_indexer] = value instead\n",
      "\n",
      "See the caveats in the documentation: https://pandas.pydata.org/pandas-docs/stable/user_guide/indexing.html#returning-a-view-versus-a-copy\n",
      "  \"\"\"\n",
      "/opt/miniconda3/lib/python3.7/site-packages/ipykernel_launcher.py:6: SettingWithCopyWarning: \n",
      "A value is trying to be set on a copy of a slice from a DataFrame.\n",
      "Try using .loc[row_indexer,col_indexer] = value instead\n",
      "\n",
      "See the caveats in the documentation: https://pandas.pydata.org/pandas-docs/stable/user_guide/indexing.html#returning-a-view-versus-a-copy\n",
      "  \n",
      "/opt/miniconda3/lib/python3.7/site-packages/ipykernel_launcher.py:7: SettingWithCopyWarning: \n",
      "A value is trying to be set on a copy of a slice from a DataFrame.\n",
      "Try using .loc[row_indexer,col_indexer] = value instead\n",
      "\n",
      "See the caveats in the documentation: https://pandas.pydata.org/pandas-docs/stable/user_guide/indexing.html#returning-a-view-versus-a-copy\n",
      "  import sys\n",
      "/opt/miniconda3/lib/python3.7/site-packages/ipykernel_launcher.py:8: SettingWithCopyWarning: \n",
      "A value is trying to be set on a copy of a slice from a DataFrame.\n",
      "Try using .loc[row_indexer,col_indexer] = value instead\n",
      "\n",
      "See the caveats in the documentation: https://pandas.pydata.org/pandas-docs/stable/user_guide/indexing.html#returning-a-view-versus-a-copy\n",
      "  \n"
     ]
    }
   ],
   "source": [
    "test0 = prePlotTesting(tests, 0)\n",
    "test10 = prePlotTesting(tests, 0.1)\n",
    "test20 = prePlotTesting(tests, 0.2)\n",
    "test30 = prePlotTesting(tests, 0.3)\n",
    "test40 = prePlotTesting(tests, 0.4)\n",
    "test50 = prePlotTesting(tests, 0.5)"
   ]
  },
  {
   "cell_type": "code",
   "execution_count": 116,
   "id": "7b5faaf3",
   "metadata": {},
   "outputs": [
    {
     "data": {
      "image/png": "[encoded data removed]",
      "text/plain": [
       "<Figure size 921.6x633.6 with 1 Axes>"
      ]
     },
     "metadata": {
      "needs_background": "light"
     },
     "output_type": "display_data"
    }
   ],
   "source": [
    "#plot\n",
    "fig, ax = plt.subplots()\n",
    "\n",
    "ax.plot(test0['day'], test0['totalDailyTestsConducted'], color='tab:blue', linewidth=2, label='Base model')\n",
    "ax.plot(test10['day'], test10['totalDailyTestsConducted'], color='tab:orange', linewidth=2, label='10% random testing')\n",
    "ax.plot(test20['day'], test20['totalDailyTestsConducted'], color='tab:red', linewidth=2, label='20% random testing')\n",
    "ax.plot(test30['day'], test30['totalDailyTestsConducted'], color='tab:green', linewidth=2, label='30% random testing')\n",
    "ax.plot(test40['day'], test40['totalDailyTestsConducted'], color='tab:purple', linewidth=2, label='40% random testing')\n",
    "ax.plot(test50['day'], test50['totalDailyTestsConducted'], color='tab:brown', linewidth=2, label='50% random testing')\n",
    "plt.axhline(26, label='Testing capacity', color='grey', linewidth=2, linestyle='--')\n",
    "\n",
    "# Add titles\n",
    "ax.set_title('Total PCR tests conducted  per day (random testing and standard testing)')\n",
    "ax.set_xlabel('Days')\n",
    "ax.set_ylabel('Number of tests performed')\n",
    "ax.legend()\n",
    "plt.show()"
   ]
  }
 ],
 "metadata": {
  "kernelspec": {
   "display_name": "Python 3",
   "language": "python",
   "name": "python3"
  },
  "language_info": {
   "codemirror_mode": {
    "name": "ipython",
    "version": 3
   },
   "file_extension": ".py",
   "mimetype": "text/x-python",
   "name": "python",
   "nbconvert_exporter": "python",
   "pygments_lexer": "ipython3",
   "version": "3.7.7"
  }
 },
 "nbformat": 4,
 "nbformat_minor": 5
}
