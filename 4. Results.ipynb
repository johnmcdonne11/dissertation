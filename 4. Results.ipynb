{
 "cells": [
  {
   "cell_type": "markdown",
   "id": "8162c2e1",
   "metadata": {},
   "source": [
    "# Results"
   ]
  },
  {
   "cell_type": "code",
   "execution_count": 1,
   "id": "5ad61399",
   "metadata": {},
   "outputs": [],
   "source": [
    "import pandas as pd\n",
    "import numpy as np\n",
    "import matplotlib as mpl\n",
    "import matplotlib.pyplot as plt\n",
    "import scipy.stats\n",
    "import random\n",
    "%matplotlib inline "
   ]
  },
  {
   "cell_type": "code",
   "execution_count": 2,
   "id": "bbfa309f",
   "metadata": {},
   "outputs": [],
   "source": [
    "plt.style.use('seaborn-poster')"
   ]
  },
  {
   "cell_type": "markdown",
   "id": "70f3fbdb",
   "metadata": {},
   "source": [
    "## Import experiment data"
   ]
  },
  {
   "cell_type": "code",
   "execution_count": 3,
   "id": "f910b31f",
   "metadata": {},
   "outputs": [],
   "source": [
    "#experimentData = pd.read_csv('Experiments/3. Real world validation/3. Real world data validation-table_1.csv', skiprows=6)\n",
    "experimentData = pd.read_csv('Experiments/5. Main Experiment/Experiment_1.csv', skiprows=6)"
   ]
  },
  {
   "cell_type": "code",
   "execution_count": 4,
   "id": "baf89a16",
   "metadata": {},
   "outputs": [],
   "source": [
    "# Subset columns\n",
    "cols = ['[run number]', '[step]', 'random_tests_percentage', 'SusceptibleAgents', 'ExposedAgents',\\\n",
    " 'InfectedAAgents', 'InfectedMAgents', 'InfectedSAgents', 'InfectedCAgents', 'RecoveredAgents', 'DeadAgents', \\\n",
    " 'cumulativeConfirmedCases', 'cumulativeConfirmedRandomCases', 'cumulativeNegativeRandomCases']\n",
    "experimentData = experimentData[cols]\n",
    "\n",
    "# rename columns\n",
    "cols = ['run', 'step', 'random_tests_percentage', 'SusceptibleAgents', 'ExposedAgents',\\\n",
    " 'InfectedAAgents', 'InfectedMAgents', 'InfectedSAgents', 'InfectedCAgents', 'RecoveredAgents', 'DeadAgents', \\\n",
    " 'cumulativeConfirmedCases', 'cumulativeConfirmedRandomCases', 'cumulativeNegativeRandomCases']\n",
    "experimentData.columns = cols"
   ]
  },
  {
   "cell_type": "markdown",
   "id": "7a87027d",
   "metadata": {},
   "source": [
    "## Group by random tests percentage"
   ]
  },
  {
   "cell_type": "code",
   "execution_count": 15,
   "id": "3b7b35fe",
   "metadata": {},
   "outputs": [],
   "source": [
    "results = experimentData.groupby(['run', 'random_tests_percentage'], as_index=False).agg({'DeadAgents' : 'max'})"
   ]
  },
  {
   "cell_type": "code",
   "execution_count": 16,
   "id": "2ec8995c",
   "metadata": {},
   "outputs": [],
   "source": [
    "base = results[results['random_tests_percentage'] == 0]\n",
    "scenario1 = results[results['random_tests_percentage'] == 0.1]\n",
    "scenario2 = results[results['random_tests_percentage'] == 0.2]\n",
    "scenario3 = results[results['random_tests_percentage'] == 0.3]\n",
    "scenario4 = results[results['random_tests_percentage'] == 0.4]\n",
    "scenario5 = results[results['random_tests_percentage'] == 0.5]"
   ]
  },
  {
   "cell_type": "markdown",
   "id": "4b8db71c",
   "metadata": {},
   "source": [
    "## Calculate difference of two means"
   ]
  },
  {
   "cell_type": "markdown",
   "id": "dba800e3",
   "metadata": {},
   "source": [
    "The Null hypothesis is that the samples are drawn from populations with the same population means.  If the p-value is smaller than our threshold of 5%, then we have evidence against the null hypothesis of equal population means."
   ]
  },
  {
   "cell_type": "markdown",
   "id": "04fe2219",
   "metadata": {},
   "source": [
    "Levene’s test for equal variance can be carried out to check that variances are equal for all samples. The test can be used to check the assumption of equal variances before running a parametric test like One-Way ANOVA in Python. If your data is not following a normal distribution Levene’s test is preferred before Barlett’s."
   ]
  },
  {
   "cell_type": "code",
   "execution_count": 17,
   "id": "6fbe79ac",
   "metadata": {},
   "outputs": [],
   "source": [
    "from scipy.stats import ttest_ind\n",
    "from scipy.stats import shapiro\n",
    "from scipy.stats import levene\n",
    "from scipy.stats import mannwhitneyu"
   ]
  },
  {
   "cell_type": "code",
   "execution_count": 18,
   "id": "8f3e0f47",
   "metadata": {},
   "outputs": [],
   "source": [
    "a = base.loc[:, 'DeadAgents']\n",
    "s1 = scenario1.loc[:, 'DeadAgents']\n",
    "s2 = scenario2.loc[:, 'DeadAgents']\n",
    "s3 = scenario3.loc[:, 'DeadAgents']\n",
    "s4 = scenario4.loc[:, 'DeadAgents']\n",
    "s5 = scenario5.loc[:, 'DeadAgents']"
   ]
  },
  {
   "cell_type": "code",
   "execution_count": 79,
   "id": "24128dd9",
   "metadata": {},
   "outputs": [
    {
     "data": {
      "text/plain": [
       "2.053380104541555"
      ]
     },
     "execution_count": 79,
     "metadata": {},
     "output_type": "execute_result"
    }
   ],
   "source": [
    "1.96 + (a.std() / np.sqrt(300))"
   ]
  },
  {
   "cell_type": "code",
   "execution_count": 90,
   "id": "d9792d57",
   "metadata": {},
   "outputs": [],
   "source": [
    "def descStats(x):\n",
    "    CI_lower = x.mean() - (1.96 * (x.std() / np.sqrt(300)))\n",
    "    CI_upper = x.mean() + (1.96 * (x.std() / np.sqrt(300)))\n",
    "    return x.mean(), x.std(), CI_lower, CI_upper"
   ]
  },
  {
   "cell_type": "code",
   "execution_count": 91,
   "id": "55b1c286",
   "metadata": {},
   "outputs": [
    {
     "data": {
      "text/plain": [
       "(2.31, 1.6173908548206661, 2.126974995098552, 2.493025004901448)"
      ]
     },
     "execution_count": 91,
     "metadata": {},
     "output_type": "execute_result"
    }
   ],
   "source": [
    "descStats(a)"
   ]
  },
  {
   "cell_type": "code",
   "execution_count": 92,
   "id": "d75d7cb7",
   "metadata": {},
   "outputs": [
    {
     "data": {
      "text/plain": [
       "(2.3033333333333332, 1.7305021471120514, 2.1075085807615332, 2.499158085905133)"
      ]
     },
     "execution_count": 92,
     "metadata": {},
     "output_type": "execute_result"
    }
   ],
   "source": [
    "descStats(s1)"
   ]
  },
  {
   "cell_type": "code",
   "execution_count": 93,
   "id": "846ba80f",
   "metadata": {},
   "outputs": [
    {
     "data": {
      "text/plain": [
       "(2.0933333333333333,\n",
       " 1.5618643634628049,\n",
       " 1.9165917424394783,\n",
       " 2.2700749242271883)"
      ]
     },
     "execution_count": 93,
     "metadata": {},
     "output_type": "execute_result"
    }
   ],
   "source": [
    "descStats(s2)"
   ]
  },
  {
   "cell_type": "code",
   "execution_count": 94,
   "id": "720ac47b",
   "metadata": {},
   "outputs": [
    {
     "data": {
      "text/plain": [
       "(2.1066666666666665,\n",
       " 1.5241497072101717,\n",
       " 1.9341928908930224,\n",
       " 2.2791404424403106)"
      ]
     },
     "execution_count": 94,
     "metadata": {},
     "output_type": "execute_result"
    }
   ],
   "source": [
    "descStats(s3)"
   ]
  },
  {
   "cell_type": "code",
   "execution_count": 95,
   "id": "f07648df",
   "metadata": {},
   "outputs": [
    {
     "data": {
      "text/plain": [
       "(2.02, 1.5581053583414404, 1.843683780579411, 2.1963162194205887)"
      ]
     },
     "execution_count": 95,
     "metadata": {},
     "output_type": "execute_result"
    }
   ],
   "source": [
    "descStats(s4)"
   ]
  },
  {
   "cell_type": "code",
   "execution_count": 96,
   "id": "96354e77",
   "metadata": {},
   "outputs": [
    {
     "data": {
      "text/plain": [
       "(2.066666666666667, 1.6323103296441823, 1.881953364255336, 2.2513799690779974)"
      ]
     },
     "execution_count": 96,
     "metadata": {},
     "output_type": "execute_result"
    }
   ],
   "source": [
    "descStats(s5)"
   ]
  },
  {
   "cell_type": "markdown",
   "id": "119adced",
   "metadata": {},
   "source": [
    "### Test for Normality"
   ]
  },
  {
   "cell_type": "code",
   "execution_count": 21,
   "id": "8ba7da7a",
   "metadata": {},
   "outputs": [
    {
     "data": {
      "text/plain": [
       "ShapiroResult(statistic=0.9261698722839355, pvalue=4.959744073773642e-11)"
      ]
     },
     "execution_count": 21,
     "metadata": {},
     "output_type": "execute_result"
    }
   ],
   "source": [
    "shapiro(a)"
   ]
  },
  {
   "cell_type": "code",
   "execution_count": 22,
   "id": "8b37efea",
   "metadata": {},
   "outputs": [
    {
     "data": {
      "text/plain": [
       "ShapiroResult(statistic=0.9105143547058105, pvalue=2.264694725154226e-12)"
      ]
     },
     "execution_count": 22,
     "metadata": {},
     "output_type": "execute_result"
    }
   ],
   "source": [
    "shapiro(s1)"
   ]
  },
  {
   "cell_type": "code",
   "execution_count": 23,
   "id": "33840222",
   "metadata": {},
   "outputs": [
    {
     "data": {
      "text/plain": [
       "ShapiroResult(statistic=0.9227572679519653, pvalue=2.4450958618915664e-11)"
      ]
     },
     "execution_count": 23,
     "metadata": {},
     "output_type": "execute_result"
    }
   ],
   "source": [
    "shapiro(s2)"
   ]
  },
  {
   "cell_type": "code",
   "execution_count": 24,
   "id": "fe632698",
   "metadata": {},
   "outputs": [
    {
     "data": {
      "text/plain": [
       "ShapiroResult(statistic=0.9244821071624756, pvalue=3.486663735507989e-11)"
      ]
     },
     "execution_count": 24,
     "metadata": {},
     "output_type": "execute_result"
    }
   ],
   "source": [
    "shapiro(s3)"
   ]
  },
  {
   "cell_type": "code",
   "execution_count": 25,
   "id": "475f1cc7",
   "metadata": {},
   "outputs": [
    {
     "data": {
      "text/plain": [
       "ShapiroResult(statistic=0.9054238200187683, pvalue=8.980246017295523e-13)"
      ]
     },
     "execution_count": 25,
     "metadata": {},
     "output_type": "execute_result"
    }
   ],
   "source": [
    "shapiro(s4)"
   ]
  },
  {
   "cell_type": "code",
   "execution_count": 26,
   "id": "d0fa948c",
   "metadata": {},
   "outputs": [
    {
     "data": {
      "text/plain": [
       "ShapiroResult(statistic=0.9063238501548767, pvalue=1.054944976860983e-12)"
      ]
     },
     "execution_count": 26,
     "metadata": {},
     "output_type": "execute_result"
    }
   ],
   "source": [
    "shapiro(s5)"
   ]
  },
  {
   "cell_type": "markdown",
   "id": "cd4ec83b",
   "metadata": {},
   "source": [
    "### Test for equal variance"
   ]
  },
  {
   "cell_type": "code",
   "execution_count": 27,
   "id": "3cea1d1c",
   "metadata": {},
   "outputs": [
    {
     "data": {
      "text/plain": [
       "LeveneResult(statistic=1.1651872699718575, pvalue=0.2808275144057998)"
      ]
     },
     "execution_count": 27,
     "metadata": {},
     "output_type": "execute_result"
    }
   ],
   "source": [
    "levene(a, s1)"
   ]
  },
  {
   "cell_type": "code",
   "execution_count": 28,
   "id": "707fc694",
   "metadata": {},
   "outputs": [
    {
     "data": {
      "text/plain": [
       "LeveneResult(statistic=0.013853210536882722, pvalue=0.9063451553730657)"
      ]
     },
     "execution_count": 28,
     "metadata": {},
     "output_type": "execute_result"
    }
   ],
   "source": [
    "levene(a, s2)"
   ]
  },
  {
   "cell_type": "code",
   "execution_count": 29,
   "id": "12397ae5",
   "metadata": {},
   "outputs": [
    {
     "data": {
      "text/plain": [
       "LeveneResult(statistic=0.3415408046706411, pvalue=0.5591615905929357)"
      ]
     },
     "execution_count": 29,
     "metadata": {},
     "output_type": "execute_result"
    }
   ],
   "source": [
    "levene(a, s3)"
   ]
  },
  {
   "cell_type": "code",
   "execution_count": 30,
   "id": "4cf44f89",
   "metadata": {},
   "outputs": [
    {
     "data": {
      "text/plain": [
       "LeveneResult(statistic=0.0015303589433868225, pvalue=0.9688079291689023)"
      ]
     },
     "execution_count": 30,
     "metadata": {},
     "output_type": "execute_result"
    }
   ],
   "source": [
    "levene(a, s4)"
   ]
  },
  {
   "cell_type": "code",
   "execution_count": 31,
   "id": "66e7712c",
   "metadata": {},
   "outputs": [
    {
     "data": {
      "text/plain": [
       "LeveneResult(statistic=0.0013873486792348416, pvalue=0.9703003908034008)"
      ]
     },
     "execution_count": 31,
     "metadata": {},
     "output_type": "execute_result"
    }
   ],
   "source": [
    "levene(a, s5)"
   ]
  },
  {
   "cell_type": "markdown",
   "id": "398d6f48",
   "metadata": {},
   "source": [
    "### Test for difference in means"
   ]
  },
  {
   "cell_type": "markdown",
   "id": "a0ef20c0",
   "metadata": {},
   "source": [
    "#### T-Test (parametric)"
   ]
  },
  {
   "cell_type": "code",
   "execution_count": 32,
   "id": "e10ca1dd",
   "metadata": {},
   "outputs": [
    {
     "data": {
      "text/plain": [
       "Ttest_indResult(statistic=0.048748927833436526, pvalue=0.9611356601756811)"
      ]
     },
     "execution_count": 32,
     "metadata": {},
     "output_type": "execute_result"
    }
   ],
   "source": [
    "ttest_ind(a, s1, axis=0, equal_var=True)"
   ]
  },
  {
   "cell_type": "code",
   "execution_count": 33,
   "id": "fb56cb1b",
   "metadata": {},
   "outputs": [
    {
     "data": {
      "text/plain": [
       "Ttest_indResult(statistic=1.6690759790304261, pvalue=0.09562635764249908)"
      ]
     },
     "execution_count": 33,
     "metadata": {},
     "output_type": "execute_result"
    }
   ],
   "source": [
    "ttest_ind(a, s2, axis=0, equal_var=False)"
   ]
  },
  {
   "cell_type": "code",
   "execution_count": 34,
   "id": "6f4d9a34",
   "metadata": {},
   "outputs": [
    {
     "data": {
      "text/plain": [
       "Ttest_indResult(statistic=1.584711945951623, pvalue=0.11356230610949314)"
      ]
     },
     "execution_count": 34,
     "metadata": {},
     "output_type": "execute_result"
    }
   ],
   "source": [
    "ttest_ind(a, s3, axis=0, equal_var=False)"
   ]
  },
  {
   "cell_type": "code",
   "execution_count": 35,
   "id": "e51e564d",
   "metadata": {},
   "outputs": [
    {
     "data": {
      "text/plain": [
       "Ttest_indResult(statistic=2.236589846197715, pvalue=0.02568155293123946)"
      ]
     },
     "execution_count": 35,
     "metadata": {},
     "output_type": "execute_result"
    }
   ],
   "source": [
    "ttest_ind(a, s4, axis=0, equal_var=False)"
   ]
  },
  {
   "cell_type": "code",
   "execution_count": 36,
   "id": "20e67745",
   "metadata": {},
   "outputs": [
    {
     "data": {
      "text/plain": [
       "Ttest_indResult(statistic=1.8341262435660008, pvalue=0.06713201813778627)"
      ]
     },
     "execution_count": 36,
     "metadata": {},
     "output_type": "execute_result"
    }
   ],
   "source": [
    "ttest_ind(a, s5, axis=0, equal_var=False)"
   ]
  },
  {
   "cell_type": "markdown",
   "id": "6d1143e3",
   "metadata": {},
   "source": [
    "#### Mann Whitney U Test (non-parametric)\n",
    "The hypothesis is one-sided where we want to check whether the number of deaths is greater in a population of "
   ]
  },
  {
   "cell_type": "code",
   "execution_count": 37,
   "id": "4f3b0747",
   "metadata": {},
   "outputs": [
    {
     "data": {
      "text/plain": [
       "MannwhitneyuResult(statistic=45826.5, pvalue=0.34582545466108683)"
      ]
     },
     "execution_count": 37,
     "metadata": {},
     "output_type": "execute_result"
    }
   ],
   "source": [
    "mannwhitneyu(a, s1, alternative='greater')"
   ]
  },
  {
   "cell_type": "code",
   "execution_count": 38,
   "id": "99be0965",
   "metadata": {},
   "outputs": [
    {
     "data": {
      "text/plain": [
       "MannwhitneyuResult(statistic=48297.0, pvalue=0.05666387868892259)"
      ]
     },
     "execution_count": 38,
     "metadata": {},
     "output_type": "execute_result"
    }
   ],
   "source": [
    "mannwhitneyu(a, s2, alternative='greater')"
   ]
  },
  {
   "cell_type": "code",
   "execution_count": 39,
   "id": "4156f1f2",
   "metadata": {},
   "outputs": [
    {
     "data": {
      "text/plain": [
       "MannwhitneyuResult(statistic=47939.5, pvalue=0.07881522995053614)"
      ]
     },
     "execution_count": 39,
     "metadata": {},
     "output_type": "execute_result"
    }
   ],
   "source": [
    "mannwhitneyu(a, s3, alternative='greater')"
   ]
  },
  {
   "cell_type": "code",
   "execution_count": 40,
   "id": "ec06b227",
   "metadata": {},
   "outputs": [
    {
     "data": {
      "text/plain": [
       "MannwhitneyuResult(statistic=50032.5, pvalue=0.007734610300772811)"
      ]
     },
     "execution_count": 40,
     "metadata": {},
     "output_type": "execute_result"
    }
   ],
   "source": [
    "mannwhitneyu(a, s4, alternative='greater')"
   ]
  },
  {
   "cell_type": "code",
   "execution_count": 41,
   "id": "474431e5",
   "metadata": {},
   "outputs": [
    {
     "data": {
      "text/plain": [
       "MannwhitneyuResult(statistic=49292.5, pvalue=0.019524229851639353)"
      ]
     },
     "execution_count": 41,
     "metadata": {},
     "output_type": "execute_result"
    }
   ],
   "source": [
    "mannwhitneyu(a, s5, alternative='greater')"
   ]
  },
  {
   "cell_type": "markdown",
   "id": "bd41f52e",
   "metadata": {},
   "source": [
    "## Plots"
   ]
  },
  {
   "cell_type": "markdown",
   "id": "79f93eaf",
   "metadata": {},
   "source": [
    "### Average number of deaths in each scenario"
   ]
  },
  {
   "cell_type": "code",
   "execution_count": 42,
   "id": "b1ff4d99",
   "metadata": {},
   "outputs": [],
   "source": [
    "plotData = experimentData.groupby(['step', 'random_tests_percentage'], as_index=False).agg({'DeadAgents' : 'mean'})"
   ]
  },
  {
   "cell_type": "code",
   "execution_count": 43,
   "id": "edd33449",
   "metadata": {},
   "outputs": [],
   "source": [
    "t = plotData.loc[plotData['random_tests_percentage'] == 0, 'step']\n",
    "D_base = plotData.loc[plotData['random_tests_percentage'] == 0, 'DeadAgents']\n",
    "D_1 = plotData.loc[plotData['random_tests_percentage'] == 0.1, 'DeadAgents']\n",
    "D_2 = plotData.loc[plotData['random_tests_percentage'] == 0.2, 'DeadAgents']\n",
    "D_3 = plotData.loc[plotData['random_tests_percentage'] == 0.3, 'DeadAgents']\n",
    "D_4 = plotData.loc[plotData['random_tests_percentage'] == 0.4, 'DeadAgents']\n",
    "D_5 = plotData.loc[plotData['random_tests_percentage'] == 0.5, 'DeadAgents']"
   ]
  },
  {
   "cell_type": "code",
   "execution_count": 44,
   "id": "dd164c05",
   "metadata": {},
   "outputs": [
    {
     "data": {
      "image/png": "[encoded data removed]",
      "text/plain": [
       "<Figure size 921.6x633.6 with 1 Axes>"
      ]
     },
     "metadata": {
      "needs_background": "light"
     },
     "output_type": "display_data"
    }
   ],
   "source": [
    "fig, ax = plt.subplots()\n",
    "\n",
    "# Plot data\n",
    "ax.plot(t, D_base, color='grey', linewidth=2, label='Base Scenario')\n",
    "ax.plot(t, D_1, color='blue', linewidth=2, label='10% Random Testing')\n",
    "ax.plot(t, D_2, color='brown', linewidth=2, label='20% Random Testing')\n",
    "ax.plot(t, D_3, color='yellow', linewidth=2, label='30% Random Testing')\n",
    "ax.plot(t, D_4, color='orange', linewidth=2, label='40% Random Testing')\n",
    "ax.plot(t, D_5, color='red', linewidth=2, label='50% Random Testing')\n",
    "plt.axvline(x = 31 * 24, label='Lockdown from day 31', color='grey', linewidth=2, linestyle='--')\n",
    "\n",
    "# Add titles\n",
    "ax.set_title('Average number of Dead Agents')\n",
    "ax.set_xlabel('Hours')\n",
    "ax.set_ylabel('Average number of deaths')\n",
    "ax.legend()\n",
    "plt.show()"
   ]
  },
  {
   "cell_type": "markdown",
   "id": "0fe54741",
   "metadata": {},
   "source": [
    "# Testing Capacity"
   ]
  },
  {
   "cell_type": "code",
   "execution_count": 56,
   "id": "6fdacf13",
   "metadata": {},
   "outputs": [
    {
     "name": "stdout",
     "output_type": "stream",
     "text": [
      "<class 'pandas.core.frame.DataFrame'>\n",
      "RangeIndex: 4133314 entries, 0 to 4133313\n",
      "Data columns (total 15 columns):\n",
      " #   Column                          Dtype  \n",
      "---  ------                          -----  \n",
      " 0   run                             int64  \n",
      " 1   step                            int64  \n",
      " 2   random_tests_percentage         float64\n",
      " 3   SusceptibleAgents               int64  \n",
      " 4   ExposedAgents                   int64  \n",
      " 5   InfectedAAgents                 int64  \n",
      " 6   InfectedMAgents                 int64  \n",
      " 7   InfectedSAgents                 int64  \n",
      " 8   InfectedCAgents                 int64  \n",
      " 9   RecoveredAgents                 int64  \n",
      " 10  DeadAgents                      int64  \n",
      " 11  cumulativeConfirmedCases        int64  \n",
      " 12  cumulativeConfirmedRandomCases  int64  \n",
      " 13  cumulativeNegativeRandomCases   int64  \n",
      " 14  day                             int64  \n",
      "dtypes: float64(1), int64(14)\n",
      "memory usage: 473.0 MB\n"
     ]
    }
   ],
   "source": [
    "experimentData.info()"
   ]
  },
  {
   "cell_type": "code",
   "execution_count": 5,
   "id": "e8f1dddb",
   "metadata": {},
   "outputs": [],
   "source": [
    "experimentData['day'] = experimentData['step'] // 24"
   ]
  },
  {
   "cell_type": "code",
   "execution_count": 71,
   "id": "67e93a4b",
   "metadata": {},
   "outputs": [],
   "source": [
    "def plotTestingCapacity(random):\n",
    "    randomCases = experimentData.loc[experimentData['random_tests_percentage'] == random, :]\n",
    "    randomCases = experimentData.groupby(['run', 'day', 'random_tests_percentage'], as_index=False).agg({'cumulativeNegativeRandomCases' : 'max', 'cumulativeConfirmedRandomCases' : 'max', 'cumulativeConfirmedCases' : 'max'})\n",
    "    randomCases['dailyNegCases'] = randomCases['cumulativeNegativeRandomCases'].diff().fillna(0)\n",
    "    randomCases['dailyPosCases'] = randomCases['cumulativeConfirmedRandomCases'].diff().fillna(0)\n",
    "    randomCases['dailyConfirmedCases'] = randomCases['cumulativeConfirmedCases'].diff().fillna(0)\n",
    "    randomCases['dailyTotal'] = randomCases['dailyConfirmedCases'] + randomCases['dailyPosCases'] + randomCases['dailyNegCases']\n",
    "    randomCases = randomCases.groupby('day', as_index=False).agg({'cumulativeNegativeRandomCases' : 'mean', 'cumulativeConfirmedRandomCases' : 'mean', 'cumulativeConfirmedCases' : 'mean', 'dailyTotal' : 'mean'})\n",
    "    randomCases.loc[randomCases['dailyTotal'] < 0, 'dailyTotal'] = 0\n",
    "    \n",
    "    #plot\n",
    "    fig, ax = plt.subplots()\n",
    "\n",
    "    ax.plot(randomCases['day'], randomCases['dailyTotal'], label='Number of tests performed')\n",
    "    plt.axhline(26, label='Testing capacity', color='grey', linewidth=2, linestyle='--')\n",
    "\n",
    "    # Add titles\n",
    "    ax.set_title('Testing capacity with random testing set to {}'.format(random))\n",
    "    ax.set_xlabel('days')\n",
    "    ax.set_ylabel('Number of tests performed')\n",
    "    ax.legend()\n",
    "    plt.show()"
   ]
  },
  {
   "cell_type": "code",
   "execution_count": 73,
   "id": "81b43a94",
   "metadata": {},
   "outputs": [
    {
     "data": {
      "image/png": "[encoded data removed]",
      "text/plain": [
       "<Figure size 921.6x633.6 with 1 Axes>"
      ]
     },
     "metadata": {
      "needs_background": "light"
     },
     "output_type": "display_data"
    }
   ],
   "source": [
    "plotTestingCapacity(0)"
   ]
  },
  {
   "cell_type": "code",
   "execution_count": 74,
   "id": "71037706",
   "metadata": {},
   "outputs": [
    {
     "data": {
      "image/png": "[encoded data removed]",
      "text/plain": [
       "<Figure size 921.6x633.6 with 1 Axes>"
      ]
     },
     "metadata": {
      "needs_background": "light"
     },
     "output_type": "display_data"
    }
   ],
   "source": [
    "plotTestingCapacity(0.3)"
   ]
  },
  {
   "cell_type": "code",
   "execution_count": 36,
   "id": "63c6be42",
   "metadata": {},
   "outputs": [],
   "source": [
    "randomCases = experimentData.groupby(['run', 'day', 'random_tests_percentage'], as_index=False).agg({'cumulativeNegativeRandomCases' : 'max', 'cumulativeConfirmedRandomCases' : 'max', 'cumulativeConfirmedCases' : 'max'})"
   ]
  },
  {
   "cell_type": "code",
   "execution_count": 38,
   "id": "deea8660",
   "metadata": {},
   "outputs": [],
   "source": [
    "randomCases['dailyNegCases'] = randomCases['cumulativeNegativeRandomCases'].diff().fillna(0)"
   ]
  },
  {
   "cell_type": "code",
   "execution_count": 39,
   "id": "d738fea3",
   "metadata": {},
   "outputs": [],
   "source": [
    "randomCases['dailyPosCases'] = randomCases['cumulativeConfirmedRandomCases'].diff().fillna(0)"
   ]
  },
  {
   "cell_type": "code",
   "execution_count": 40,
   "id": "9a7490cc",
   "metadata": {},
   "outputs": [],
   "source": [
    "randomCases['dailyConfirmedCases'] = randomCases['cumulativeConfirmedCases'].diff().fillna(0)"
   ]
  },
  {
   "cell_type": "code",
   "execution_count": 41,
   "id": "c91ac2ff",
   "metadata": {},
   "outputs": [],
   "source": [
    "randomCases['dailyTotal'] = randomCases['dailyConfirmedCases'] + randomCases['dailyPosCases'] + randomCases['dailyNegCases']"
   ]
  },
  {
   "cell_type": "code",
   "execution_count": 43,
   "id": "381c991d",
   "metadata": {},
   "outputs": [],
   "source": [
    "a = randomCases.groupby('day', as_index=False).agg({'cumulativeNegativeRandomCases' : 'mean', 'cumulativeConfirmedRandomCases' : 'mean', 'cumulativeConfirmedCases' : 'mean', 'dailyTotal' : 'mean'})"
   ]
  },
  {
   "cell_type": "code",
   "execution_count": 44,
   "id": "ed9af521",
   "metadata": {},
   "outputs": [],
   "source": [
    "a.loc[a['dailyTotal'] < 0, 'dailyTotal'] = 0"
   ]
  },
  {
   "cell_type": "code",
   "execution_count": 45,
   "id": "e8b7ac28",
   "metadata": {},
   "outputs": [
    {
     "data": {
      "text/html": [
       "<div>\n",
       "<style scoped>\n",
       "    .dataframe tbody tr th:only-of-type {\n",
       "        vertical-align: middle;\n",
       "    }\n",
       "\n",
       "    .dataframe tbody tr th {\n",
       "        vertical-align: top;\n",
       "    }\n",
       "\n",
       "    .dataframe thead th {\n",
       "        text-align: right;\n",
       "    }\n",
       "</style>\n",
       "<table border=\"1\" class=\"dataframe\">\n",
       "  <thead>\n",
       "    <tr style=\"text-align: right;\">\n",
       "      <th></th>\n",
       "      <th>day</th>\n",
       "      <th>cumulativeNegativeRandomCases</th>\n",
       "      <th>cumulativeConfirmedRandomCases</th>\n",
       "      <th>cumulativeConfirmedCases</th>\n",
       "      <th>dailyTotal</th>\n",
       "    </tr>\n",
       "  </thead>\n",
       "  <tbody>\n",
       "    <tr>\n",
       "      <th>0</th>\n",
       "      <td>0</td>\n",
       "      <td>6.802222</td>\n",
       "      <td>0.031111</td>\n",
       "      <td>0.031111</td>\n",
       "      <td>0.000000</td>\n",
       "    </tr>\n",
       "    <tr>\n",
       "      <th>1</th>\n",
       "      <td>1</td>\n",
       "      <td>13.612222</td>\n",
       "      <td>0.054444</td>\n",
       "      <td>0.054444</td>\n",
       "      <td>6.856667</td>\n",
       "    </tr>\n",
       "    <tr>\n",
       "      <th>2</th>\n",
       "      <td>2</td>\n",
       "      <td>20.420556</td>\n",
       "      <td>0.079444</td>\n",
       "      <td>0.079444</td>\n",
       "      <td>6.858333</td>\n",
       "    </tr>\n",
       "    <tr>\n",
       "      <th>3</th>\n",
       "      <td>3</td>\n",
       "      <td>27.232222</td>\n",
       "      <td>0.101111</td>\n",
       "      <td>0.101111</td>\n",
       "      <td>6.855000</td>\n",
       "    </tr>\n",
       "    <tr>\n",
       "      <th>4</th>\n",
       "      <td>4</td>\n",
       "      <td>34.036667</td>\n",
       "      <td>0.130000</td>\n",
       "      <td>0.130000</td>\n",
       "      <td>6.862222</td>\n",
       "    </tr>\n",
       "    <tr>\n",
       "      <th>...</th>\n",
       "      <td>...</td>\n",
       "      <td>...</td>\n",
       "      <td>...</td>\n",
       "      <td>...</td>\n",
       "      <td>...</td>\n",
       "    </tr>\n",
       "    <tr>\n",
       "      <th>92</th>\n",
       "      <td>92</td>\n",
       "      <td>623.475624</td>\n",
       "      <td>10.179138</td>\n",
       "      <td>538.727324</td>\n",
       "      <td>9.059524</td>\n",
       "    </tr>\n",
       "    <tr>\n",
       "      <th>93</th>\n",
       "      <td>93</td>\n",
       "      <td>630.449801</td>\n",
       "      <td>10.221781</td>\n",
       "      <td>541.077141</td>\n",
       "      <td>8.961997</td>\n",
       "    </tr>\n",
       "    <tr>\n",
       "      <th>94</th>\n",
       "      <td>94</td>\n",
       "      <td>637.223483</td>\n",
       "      <td>10.263755</td>\n",
       "      <td>543.071469</td>\n",
       "      <td>8.809983</td>\n",
       "    </tr>\n",
       "    <tr>\n",
       "      <th>95</th>\n",
       "      <td>95</td>\n",
       "      <td>644.027242</td>\n",
       "      <td>10.309308</td>\n",
       "      <td>545.144722</td>\n",
       "      <td>8.846765</td>\n",
       "    </tr>\n",
       "    <tr>\n",
       "      <th>96</th>\n",
       "      <td>96</td>\n",
       "      <td>643.507106</td>\n",
       "      <td>10.318931</td>\n",
       "      <td>545.715179</td>\n",
       "      <td>0.000000</td>\n",
       "    </tr>\n",
       "  </tbody>\n",
       "</table>\n",
       "<p>97 rows × 5 columns</p>\n",
       "</div>"
      ],
      "text/plain": [
       "    day  cumulativeNegativeRandomCases  cumulativeConfirmedRandomCases  \\\n",
       "0     0                       6.802222                        0.031111   \n",
       "1     1                      13.612222                        0.054444   \n",
       "2     2                      20.420556                        0.079444   \n",
       "3     3                      27.232222                        0.101111   \n",
       "4     4                      34.036667                        0.130000   \n",
       "..  ...                            ...                             ...   \n",
       "92   92                     623.475624                       10.179138   \n",
       "93   93                     630.449801                       10.221781   \n",
       "94   94                     637.223483                       10.263755   \n",
       "95   95                     644.027242                       10.309308   \n",
       "96   96                     643.507106                       10.318931   \n",
       "\n",
       "    cumulativeConfirmedCases  dailyTotal  \n",
       "0                   0.031111    0.000000  \n",
       "1                   0.054444    6.856667  \n",
       "2                   0.079444    6.858333  \n",
       "3                   0.101111    6.855000  \n",
       "4                   0.130000    6.862222  \n",
       "..                       ...         ...  \n",
       "92                538.727324    9.059524  \n",
       "93                541.077141    8.961997  \n",
       "94                543.071469    8.809983  \n",
       "95                545.144722    8.846765  \n",
       "96                545.715179    0.000000  \n",
       "\n",
       "[97 rows x 5 columns]"
      ]
     },
     "execution_count": 45,
     "metadata": {},
     "output_type": "execute_result"
    }
   ],
   "source": [
    "a"
   ]
  },
  {
   "cell_type": "code",
   "execution_count": 51,
   "id": "2256cacc",
   "metadata": {},
   "outputs": [
    {
     "data": {
      "image/png": "[encoded data removed]",
      "text/plain": [
       "<Figure size 921.6x633.6 with 1 Axes>"
      ]
     },
     "metadata": {
      "needs_background": "light"
     },
     "output_type": "display_data"
    }
   ],
   "source": [
    "fig, ax = plt.subplots()\n",
    "\n",
    "ax.plot(a['day'], a['dailyTotal'], label='Number of tests performed')\n",
    "plt.axhline(26, label='Testing capacity', color='grey', linewidth=2, linestyle='--')\n",
    "\n",
    "# Add titles\n",
    "ax.set_title('Testing capacity')\n",
    "ax.set_xlabel('days')\n",
    "ax.set_ylabel('Number of tests performed')\n",
    "ax.legend()\n",
    "plt.show()"
   ]
  },
  {
   "cell_type": "code",
   "execution_count": 34,
   "id": "b5cbce22",
   "metadata": {},
   "outputs": [
    {
     "data": {
      "text/html": [
       "<div>\n",
       "<style scoped>\n",
       "    .dataframe tbody tr th:only-of-type {\n",
       "        vertical-align: middle;\n",
       "    }\n",
       "\n",
       "    .dataframe tbody tr th {\n",
       "        vertical-align: top;\n",
       "    }\n",
       "\n",
       "    .dataframe thead th {\n",
       "        text-align: right;\n",
       "    }\n",
       "</style>\n",
       "<table border=\"1\" class=\"dataframe\">\n",
       "  <thead>\n",
       "    <tr style=\"text-align: right;\">\n",
       "      <th></th>\n",
       "      <th>day</th>\n",
       "      <th>dailyTotal</th>\n",
       "    </tr>\n",
       "  </thead>\n",
       "  <tbody>\n",
       "    <tr>\n",
       "      <th>0</th>\n",
       "      <td>0</td>\n",
       "      <td>0.0</td>\n",
       "    </tr>\n",
       "    <tr>\n",
       "      <th>1</th>\n",
       "      <td>1</td>\n",
       "      <td>0.0</td>\n",
       "    </tr>\n",
       "    <tr>\n",
       "      <th>2</th>\n",
       "      <td>2</td>\n",
       "      <td>0.0</td>\n",
       "    </tr>\n",
       "    <tr>\n",
       "      <th>3</th>\n",
       "      <td>3</td>\n",
       "      <td>0.0</td>\n",
       "    </tr>\n",
       "    <tr>\n",
       "      <th>4</th>\n",
       "      <td>4</td>\n",
       "      <td>0.0</td>\n",
       "    </tr>\n",
       "    <tr>\n",
       "      <th>...</th>\n",
       "      <td>...</td>\n",
       "      <td>...</td>\n",
       "    </tr>\n",
       "    <tr>\n",
       "      <th>28988</th>\n",
       "      <td>92</td>\n",
       "      <td>4.0</td>\n",
       "    </tr>\n",
       "    <tr>\n",
       "      <th>28989</th>\n",
       "      <td>93</td>\n",
       "      <td>0.0</td>\n",
       "    </tr>\n",
       "    <tr>\n",
       "      <th>28990</th>\n",
       "      <td>94</td>\n",
       "      <td>2.0</td>\n",
       "    </tr>\n",
       "    <tr>\n",
       "      <th>28991</th>\n",
       "      <td>95</td>\n",
       "      <td>3.0</td>\n",
       "    </tr>\n",
       "    <tr>\n",
       "      <th>28992</th>\n",
       "      <td>96</td>\n",
       "      <td>0.0</td>\n",
       "    </tr>\n",
       "  </tbody>\n",
       "</table>\n",
       "<p>28993 rows × 2 columns</p>\n",
       "</div>"
      ],
      "text/plain": [
       "       day  dailyTotal\n",
       "0        0         0.0\n",
       "1        1         0.0\n",
       "2        2         0.0\n",
       "3        3         0.0\n",
       "4        4         0.0\n",
       "...    ...         ...\n",
       "28988   92         4.0\n",
       "28989   93         0.0\n",
       "28990   94         2.0\n",
       "28991   95         3.0\n",
       "28992   96         0.0\n",
       "\n",
       "[28993 rows x 2 columns]"
      ]
     },
     "execution_count": 34,
     "metadata": {},
     "output_type": "execute_result"
    }
   ],
   "source": [
    "a"
   ]
  },
  {
   "cell_type": "code",
   "execution_count": 20,
   "id": "c9be5d49",
   "metadata": {},
   "outputs": [],
   "source": [
    "randomCases = experimentData.groupby(['random_tests_percentage', 'run'], as_index=False).agg({'cumulativeConfirmedRandomCases' : 'max', 'cumulativeNegativeRandomCases' : 'max'})"
   ]
  },
  {
   "cell_type": "code",
   "execution_count": 21,
   "id": "c373c782",
   "metadata": {},
   "outputs": [
    {
     "data": {
      "text/plain": [
       "10.178888888888888"
      ]
     },
     "execution_count": 21,
     "metadata": {},
     "output_type": "execute_result"
    }
   ],
   "source": [
    "randomCases['cumulativeConfirmedRandomCases'].mean()"
   ]
  },
  {
   "cell_type": "code",
   "execution_count": 22,
   "id": "886ee593",
   "metadata": {},
   "outputs": [
    {
     "data": {
      "text/plain": [
       "0          0\n",
       "1          0\n",
       "2          0\n",
       "3          0\n",
       "4          0\n",
       "        ... \n",
       "1795    1223\n",
       "1796    1232\n",
       "1797    1234\n",
       "1798    1227\n",
       "1799    1240\n",
       "Name: cumulativeNegativeRandomCases, Length: 1800, dtype: int64"
      ]
     },
     "execution_count": 22,
     "metadata": {},
     "output_type": "execute_result"
    }
   ],
   "source": [
    "randomCases['cumulativeNegativeRandomCases']"
   ]
  },
  {
   "cell_type": "code",
   "execution_count": 25,
   "id": "6eca8684",
   "metadata": {},
   "outputs": [],
   "source": [
    "randomCases = randomCases.groupby(['random_tests_percentage'], as_index=False).agg({'cumulativeConfirmedRandomCases' : 'mean', 'cumulativeNegativeRandomCases' : 'mean'})"
   ]
  },
  {
   "cell_type": "code",
   "execution_count": 27,
   "id": "09a67a93",
   "metadata": {},
   "outputs": [],
   "source": [
    "randomCases['rate'] = randomCases['cumulativeConfirmedRandomCases'] / (randomCases['cumulativeConfirmedRandomCases'] + randomCases['cumulativeNegativeRandomCases'])"
   ]
  },
  {
   "cell_type": "code",
   "execution_count": 28,
   "id": "34438a42",
   "metadata": {},
   "outputs": [
    {
     "data": {
      "text/html": [
       "<div>\n",
       "<style scoped>\n",
       "    .dataframe tbody tr th:only-of-type {\n",
       "        vertical-align: middle;\n",
       "    }\n",
       "\n",
       "    .dataframe tbody tr th {\n",
       "        vertical-align: top;\n",
       "    }\n",
       "\n",
       "    .dataframe thead th {\n",
       "        text-align: right;\n",
       "    }\n",
       "</style>\n",
       "<table border=\"1\" class=\"dataframe\">\n",
       "  <thead>\n",
       "    <tr style=\"text-align: right;\">\n",
       "      <th></th>\n",
       "      <th>random_tests_percentage</th>\n",
       "      <th>cumulativeConfirmedRandomCases</th>\n",
       "      <th>cumulativeNegativeRandomCases</th>\n",
       "      <th>rate</th>\n",
       "    </tr>\n",
       "  </thead>\n",
       "  <tbody>\n",
       "    <tr>\n",
       "      <th>0</th>\n",
       "      <td>0.0</td>\n",
       "      <td>0.000000</td>\n",
       "      <td>0.000000</td>\n",
       "      <td>NaN</td>\n",
       "    </tr>\n",
       "    <tr>\n",
       "      <th>1</th>\n",
       "      <td>0.1</td>\n",
       "      <td>4.643333</td>\n",
       "      <td>282.186667</td>\n",
       "      <td>0.016188</td>\n",
       "    </tr>\n",
       "    <tr>\n",
       "      <th>2</th>\n",
       "      <td>0.2</td>\n",
       "      <td>8.976667</td>\n",
       "      <td>565.323333</td>\n",
       "      <td>0.015631</td>\n",
       "    </tr>\n",
       "    <tr>\n",
       "      <th>3</th>\n",
       "      <td>0.3</td>\n",
       "      <td>12.193333</td>\n",
       "      <td>754.900000</td>\n",
       "      <td>0.015896</td>\n",
       "    </tr>\n",
       "    <tr>\n",
       "      <th>4</th>\n",
       "      <td>0.4</td>\n",
       "      <td>16.526667</td>\n",
       "      <td>1034.853333</td>\n",
       "      <td>0.015719</td>\n",
       "    </tr>\n",
       "    <tr>\n",
       "      <th>5</th>\n",
       "      <td>0.5</td>\n",
       "      <td>18.733333</td>\n",
       "      <td>1218.000000</td>\n",
       "      <td>0.015147</td>\n",
       "    </tr>\n",
       "  </tbody>\n",
       "</table>\n",
       "</div>"
      ],
      "text/plain": [
       "   random_tests_percentage  cumulativeConfirmedRandomCases  \\\n",
       "0                      0.0                        0.000000   \n",
       "1                      0.1                        4.643333   \n",
       "2                      0.2                        8.976667   \n",
       "3                      0.3                       12.193333   \n",
       "4                      0.4                       16.526667   \n",
       "5                      0.5                       18.733333   \n",
       "\n",
       "   cumulativeNegativeRandomCases      rate  \n",
       "0                       0.000000       NaN  \n",
       "1                     282.186667  0.016188  \n",
       "2                     565.323333  0.015631  \n",
       "3                     754.900000  0.015896  \n",
       "4                    1034.853333  0.015719  \n",
       "5                    1218.000000  0.015147  "
      ]
     },
     "execution_count": 28,
     "metadata": {},
     "output_type": "execute_result"
    }
   ],
   "source": [
    "randomCases"
   ]
  },
  {
   "cell_type": "code",
   "execution_count": null,
   "id": "2942bb65",
   "metadata": {},
   "outputs": [],
   "source": []
  }
 ],
 "metadata": {
  "kernelspec": {
   "display_name": "Python 3",
   "language": "python",
   "name": "python3"
  },
  "language_info": {
   "codemirror_mode": {
    "name": "ipython",
    "version": 3
   },
   "file_extension": ".py",
   "mimetype": "text/x-python",
   "name": "python",
   "nbconvert_exporter": "python",
   "pygments_lexer": "ipython3",
   "version": "3.7.7"
  }
 },
 "nbformat": 4,
 "nbformat_minor": 5
}
